{
 "cells": [
  {
   "cell_type": "markdown",
   "metadata": {
    "vscode": {
     "languageId": "plaintext"
    }
   },
   "source": [
    "Copyright **`(c)`** 2024 Giovanni Squillero `<giovanni.squillero@polito.it>`  \n",
    "[`https://github.com/squillero/computational-intelligence`](https://github.com/squillero/computational-intelligence)  \n",
    "Free under certain conditions — see the [`license`](https://github.com/squillero/computational-intelligence/blob/master/LICENSE.md) for details.  "
   ]
  },
  {
   "cell_type": "code",
   "execution_count": 107,
   "metadata": {},
   "outputs": [],
   "source": [
    "import logging\n",
    "from itertools import combinations, permutations\n",
    "import pandas as pd\n",
    "import numpy as np\n",
    "from geopy.distance import geodesic\n",
    "import networkx as nx\n",
    "import random\n",
    "from sklearn.cluster import KMeans\n",
    "\n",
    "\n",
    "from icecream import ic\n",
    "\n",
    "logging.basicConfig(level=logging.DEBUG)"
   ]
  },
  {
   "cell_type": "code",
   "execution_count": 108,
   "metadata": {},
   "outputs": [
    {
     "data": {
      "text/html": [
       "<div>\n",
       "<style scoped>\n",
       "    .dataframe tbody tr th:only-of-type {\n",
       "        vertical-align: middle;\n",
       "    }\n",
       "\n",
       "    .dataframe tbody tr th {\n",
       "        vertical-align: top;\n",
       "    }\n",
       "\n",
       "    .dataframe thead th {\n",
       "        text-align: right;\n",
       "    }\n",
       "</style>\n",
       "<table border=\"1\" class=\"dataframe\">\n",
       "  <thead>\n",
       "    <tr style=\"text-align: right;\">\n",
       "      <th></th>\n",
       "      <th>name</th>\n",
       "      <th>lat</th>\n",
       "      <th>lon</th>\n",
       "    </tr>\n",
       "  </thead>\n",
       "  <tbody>\n",
       "    <tr>\n",
       "      <th>0</th>\n",
       "      <td>Ancona</td>\n",
       "      <td>43.60</td>\n",
       "      <td>13.50</td>\n",
       "    </tr>\n",
       "    <tr>\n",
       "      <th>1</th>\n",
       "      <td>Andria</td>\n",
       "      <td>41.23</td>\n",
       "      <td>16.29</td>\n",
       "    </tr>\n",
       "    <tr>\n",
       "      <th>2</th>\n",
       "      <td>Bari</td>\n",
       "      <td>41.12</td>\n",
       "      <td>16.87</td>\n",
       "    </tr>\n",
       "    <tr>\n",
       "      <th>3</th>\n",
       "      <td>Bergamo</td>\n",
       "      <td>45.70</td>\n",
       "      <td>9.67</td>\n",
       "    </tr>\n",
       "    <tr>\n",
       "      <th>4</th>\n",
       "      <td>Bologna</td>\n",
       "      <td>44.50</td>\n",
       "      <td>11.34</td>\n",
       "    </tr>\n",
       "  </tbody>\n",
       "</table>\n",
       "</div>"
      ],
      "text/plain": [
       "      name    lat    lon\n",
       "0   Ancona  43.60  13.50\n",
       "1   Andria  41.23  16.29\n",
       "2     Bari  41.12  16.87\n",
       "3  Bergamo  45.70   9.67\n",
       "4  Bologna  44.50  11.34"
      ]
     },
     "execution_count": 108,
     "metadata": {},
     "output_type": "execute_result"
    }
   ],
   "source": [
    "CITIES = pd.read_csv('cities/italy.csv', header=None, names=['name', 'lat', 'lon'])\n",
    "DIST_MATRIX = np.zeros((len(CITIES), len(CITIES)))\n",
    "for c1, c2 in combinations(CITIES.itertuples(), 2):\n",
    "    DIST_MATRIX[c1.Index, c2.Index] = DIST_MATRIX[c2.Index, c1.Index] = geodesic(\n",
    "        (c1.lat, c1.lon), (c2.lat, c2.lon)\n",
    "    ).km\n",
    "CITIES.head()"
   ]
  },
  {
   "cell_type": "markdown",
   "metadata": {},
   "source": [
    "## Lab2 - TSP\n",
    "\n",
    "https://www.wolframcloud.com/obj/giovanni.squillero/Published/Lab2-tsp.nb"
   ]
  },
  {
   "cell_type": "code",
   "execution_count": 109,
   "metadata": {},
   "outputs": [],
   "source": [
    "def tsp_cost(tsp):\n",
    "    assert tsp[0] == tsp[-1]\n",
    "    cluster_set = set(tsp[:-1])  # Escludi l'ultima città (uguale alla prima)\n",
    "    tot_cost = 0\n",
    "    for c1, c2 in zip(tsp, tsp[1:]):\n",
    "        tot_cost += DIST_MATRIX[c1, c2]\n",
    "    return tot_cost if cluster_set.issubset(set(range(len(CITIES)))) else float('inf')"
   ]
  },
  {
   "cell_type": "markdown",
   "metadata": {},
   "source": [
    "## First Greedy Algorithm"
   ]
  },
  {
   "cell_type": "code",
   "execution_count": 110,
   "metadata": {},
   "outputs": [
    {
     "name": "stderr",
     "output_type": "stream",
     "text": [
      "INFO:root:result: Found a path of 46 steps, total length 4436.03km\n"
     ]
    }
   ],
   "source": [
    "def greedy(startingcity: int):\n",
    "    visited = np.full(len(CITIES), False)\n",
    "    dist = DIST_MATRIX.copy()\n",
    "    city = startingcity\n",
    "    visited[city] = True\n",
    "    tsp = list()\n",
    "    tsp.append(int(city))\n",
    "    while not np.all(visited):\n",
    "        dist[:, city] = np.inf\n",
    "        closest = np.argmin(dist[city])\n",
    "        visited[closest] = True\n",
    "        city = closest\n",
    "        tsp.append(int(city))\n",
    "    tsp.append(tsp[0])\n",
    "    return tsp\n",
    "\n",
    "visited = np.full(len(CITIES), False)\n",
    "dist = DIST_MATRIX.copy()\n",
    "city = 0\n",
    "visited[city] = True\n",
    "tsp = list()\n",
    "tsp.append(int(city))\n",
    "while not np.all(visited):\n",
    "    dist[:, city] = np.inf\n",
    "    closest = np.argmin(dist[city])\n",
    "    visited[closest] = True\n",
    "    city = closest\n",
    "    tsp.append(int(city))\n",
    "tsp.append(tsp[0])\n",
    "\n",
    "\n",
    "logging.info(f\"result: Found a path of {len(tsp)-1} steps, total length {tsp_cost(tsp):.2f}km\")"
   ]
  },
  {
   "cell_type": "markdown",
   "metadata": {},
   "source": [
    "## Simulated annealing with 2-opt"
   ]
  },
  {
   "cell_type": "code",
   "execution_count": 111,
   "metadata": {},
   "outputs": [
    {
     "name": "stderr",
     "output_type": "stream",
     "text": [
      "INFO:root:Simulated annealing optimized solution cost: 4320.03 km\n"
     ]
    }
   ],
   "source": [
    "# Simulated annealing parameters \n",
    "initial_temp = 0.1  # Starting temperature\n",
    "cooling_rate = 0.999  # How to slow down the cooling\n",
    "min_temp = 1e-5  # Minimum temperature \n",
    "\n",
    "def two_opt(tour):\n",
    "    \"\"\"Applica la mossa 2-opt per invertire una parte del percorso.\"\"\"\n",
    "    i, j = np.sort(np.random.randint(1, len(CITIES) - 1, size=2))\n",
    "    new_tour = tour[:i] + tour[i:j+1][::-1] + tour[j+1:]\n",
    "    return new_tour\n",
    "\n",
    "def simulated_annealing(tsp, initial_temp, cooling_rate, min_temp):\n",
    "    current_solution = tsp.copy()\n",
    "    current_cost = tsp_cost(current_solution)\n",
    "    best_solution = current_solution.copy()\n",
    "    best_cost = current_cost\n",
    "    temperature = initial_temp\n",
    "\n",
    "    while temperature > min_temp:\n",
    "        # Generate a new solution through 2-opt\n",
    "        new_solution = two_opt(current_solution)\n",
    "\n",
    "        # Cost of the new solution\n",
    "        new_cost = tsp_cost(new_solution)\n",
    "\n",
    "        # Cost difference\n",
    "        cost_diff = new_cost - current_cost\n",
    "\n",
    "        # Decide whether to accept the new solution\n",
    "        if cost_diff < 0 or np.random.rand() < np.exp(-cost_diff / temperature):\n",
    "            current_solution = new_solution\n",
    "            current_cost = new_cost\n",
    "            if current_cost < best_cost:\n",
    "                best_solution = current_solution\n",
    "                best_cost = current_cost\n",
    "\n",
    "        # Cool down the temperature\n",
    "        temperature *= cooling_rate\n",
    "\n",
    "    return best_solution, best_cost\n",
    "\n",
    "best_solution, best_cost = simulated_annealing(tsp, initial_temp, cooling_rate, min_temp)\n",
    "\n",
    "logging.info(f\"Simulated annealing optimized solution cost: {best_cost:.2f} km\")"
   ]
  },
  {
   "cell_type": "code",
   "execution_count": 112,
   "metadata": {},
   "outputs": [
    {
     "data": {
      "text/plain": [
       "'\\n#Apply simulated annealing 15 times recursively on the solution obtained from the previous iteration\\nfor i in range(15):\\n    best_solution, best_cost = simulated_annealing(best_solution, initial_temp, cooling_rate, min_temp)\\n    logging.info(f\"Simulated annealing optimized solution cost: {best_cost:.2f} km\")\\n'"
      ]
     },
     "execution_count": 112,
     "metadata": {},
     "output_type": "execute_result"
    }
   ],
   "source": [
    "'''\n",
    "#Apply simulated annealing 15 times recursively on the solution obtained from the previous iteration\n",
    "for i in range(15):\n",
    "    best_solution, best_cost = simulated_annealing(best_solution, initial_temp, cooling_rate, min_temp)\n",
    "    logging.info(f\"Simulated annealing optimized solution cost: {best_cost:.2f} km\")\n",
    "'''"
   ]
  },
  {
   "cell_type": "markdown",
   "metadata": {},
   "source": [
    "## Starting point for the EA algorithm"
   ]
  },
  {
   "cell_type": "markdown",
   "metadata": {},
   "source": [
    "There are different ways in which we can start the execution of the EA algorithm. In particular, given the population size, we can decide to start from a completely random population of solutions or, in the other hand, we can decide to tune the number of greedy solutions inserted inside. Moreover, to have even a better starting point, we can apply simulated annealing with 2-opt mutation (that has demonstrated to be the best one) in order to obtain even a better solution to insert inside the pool. Obviously, also in this case, there are many other things that can be improved. In particular, how many individual are greedy? How many are generated completely random? How many are greedy+simulated annealing?\n",
    "For what concerns the crossover, many methods have been tried, such as order crossover, cycle crossover and so on (they are all reported in the following section). The one selected is Inver Over as it gave the best result considering only Modern GA when evaluating.\n",
    "For the mutation, given the results obtained with the simulated annealing, I decided to use 2-opt again."
   ]
  },
  {
   "cell_type": "code",
   "execution_count": 113,
   "metadata": {},
   "outputs": [],
   "source": [
    "# Function to create a random solution (valid, it is a tour of the cities)\n",
    "def create_random_solution():\n",
    "    solution = list(range(len(CITIES)))\n",
    "    np.random.shuffle(solution)\n",
    "    solution.append(solution[0])  \n",
    "    return solution\n",
    "\n",
    "'''\n",
    "This function receives total_size (population_size), greedy_size (number of individuals generated using the greedy algorithm), \n",
    "random_size (number of individuals randomly generated) and simulated_annealing_size (number of individuals generated \n",
    "using greedy optimized using the simulated annealing algorithm with 2-opt mutation).\n",
    "'''\n",
    "def create_initial_population(total_size,greedy_size,random_size,simulated_annealing_size):\n",
    "    population = []\n",
    "    for _ in range(greedy_size):\n",
    "        population.append(greedy(np.random.randint(0,len(CITIES))))\n",
    "    for _ in range(random_size):\n",
    "        population.append(create_random_solution())\n",
    "    for _ in range(simulated_annealing_size):\n",
    "        population.append(simulated_annealing(greedy(np.random.randint(0,len(CITIES))),initial_temp,cooling_rate,min_temp)[0])\n",
    "    for _ in range(total_size-len(population)):\n",
    "        population.append(create_random_solution())\n",
    "    return population\n",
    "\n",
    "'''\n",
    "Utility function to compute the fitness, it's simply the cost of the negative of the cost of the tour.\n",
    "Since it is always a valid tour, no need to evaluate this additional constraint \n",
    "(even if there is an assert inside the tsp_cost function that has been defined by the professor)\n",
    "'''\n",
    "def fitness(solution):\n",
    "    return -tsp_cost(solution)\n",
    "\n",
    "# Tournament selection\n",
    "def tournament_selection(population, k=30):\n",
    "    selected = random.sample(population, k)\n",
    "    selected.sort(key=fitness, reverse=True)\n",
    "    return selected[0]\n",
    "\n",
    "''' \n",
    "From here on, different types of crossover functions are defined (order, partially mapped, cycle, uniform and inversion).\n",
    "'''\n",
    "\n",
    "def order_crossover(parent1, parent2):\n",
    "    size = len(parent1) - 1  # Exclude the last element (the return to start)\n",
    "    start, end = sorted(random.sample(range(size), 2))\n",
    "\n",
    "    child = [None] * size\n",
    "    child[start:end] = parent1[start:end]  # Copy segment from parent1\n",
    "\n",
    "    p2_index = 0\n",
    "    for i in range(size):\n",
    "        if child[i] is None:  # Fill in remaining positions\n",
    "            while parent2[p2_index] in child:\n",
    "                p2_index += 1\n",
    "            child[i] = parent2[p2_index]\n",
    "\n",
    "    child.append(child[0])  # Close the cycle\n",
    "    return child\n",
    "\n",
    "def partially_mapped_crossover(parent1, parent2):\n",
    "    size = len(parent1) - 1  # Exclude the last element (the return to start)\n",
    "    start, end = sorted(random.sample(range(size), 2))\n",
    "\n",
    "    child = [None] * size\n",
    "    child[start:end] = parent1[start:end]  # Copy segment from parent1\n",
    "\n",
    "    # Create a mapping\n",
    "    mapping = {}\n",
    "    for i in range(start, end):\n",
    "        mapping[parent1[i]] = parent2[i]\n",
    "\n",
    "    # Fill in the remaining positions from parent2\n",
    "    for i in range(size):\n",
    "        if child[i] is None:\n",
    "            gene = parent2[i]\n",
    "            while gene in mapping:\n",
    "                gene = mapping[gene]\n",
    "            child[i] = gene\n",
    "\n",
    "    child.append(child[0])  # Close the cycle\n",
    "    return child\n",
    "\n",
    "def cycle_crossover(parent1, parent2):\n",
    "    size = len(parent1) - 1  # Exclude the last element (the return to start)\n",
    "    child = [None] * size\n",
    "    visited = [False] * size\n",
    "    \n",
    "    # Find cycles\n",
    "    for start in range(size):\n",
    "        if not visited[start]:\n",
    "            current = start\n",
    "            while not visited[current]:\n",
    "                visited[current] = True\n",
    "                child[current] = parent1[current]\n",
    "                current = parent2.index(parent1[current])\n",
    "\n",
    "    # Fill the remaining positions with genes from parent2\n",
    "    for i in range(size):\n",
    "        if child[i] is None:\n",
    "            child[i] = parent2[i]\n",
    "\n",
    "    child.append(child[0])  # Close the cycle\n",
    "    return child\n",
    "\n",
    "def uniform_crossover(parent1, parent2):\n",
    "    size = len(parent1) - 1  # Exclude the last element (the return to start)\n",
    "    mask = [random.choice([0, 1]) for _ in range(size)]\n",
    "\n",
    "    child = [None] * size\n",
    "    for i in range(size):\n",
    "        if mask[i] == 0:\n",
    "            child[i] = parent1[i]\n",
    "        else:\n",
    "            child[i] = parent2[i]\n",
    "\n",
    "    # Fix duplicates by replacing with genes from the other parent\n",
    "    for i in range(size):\n",
    "        if child[i] in child:\n",
    "            other_parent = parent1 if child[i] in parent2 else parent2\n",
    "            for gene in other_parent:\n",
    "                if gene not in child:\n",
    "                    child[i] = gene\n",
    "                    break\n",
    "\n",
    "    child.append(child[0])  # Close the cycle\n",
    "    return child\n",
    "\n",
    "\n",
    "def inversion_crossover(parent1, parent2):\n",
    "    # Determine the size of the parents (excluding the last element)\n",
    "    size = len(parent1) - 1  \n",
    "    # Randomly choose two crossover points\n",
    "    start, end = sorted(random.sample(range(size), 2))\n",
    "\n",
    "    # Copy the segment from parent1 and invert it\n",
    "    child_segment = parent1[start:end + 1][::-1]  # Invert the selected segment\n",
    "    \n",
    "    # Create a child list that initially includes None\n",
    "    child = [None] * size\n",
    "    \n",
    "    # Fill in the inverted segment into the child\n",
    "    child[start:end + 1] = child_segment\n",
    "    \n",
    "    # Fill the remaining positions with genes from parent2, avoiding duplicates\n",
    "    p2_index = 0\n",
    "    for i in range(size):\n",
    "        if child[i] is None:\n",
    "            # Find the next gene from parent2 that isn't already in the child\n",
    "            while parent2[p2_index] in child:\n",
    "                p2_index += 1\n",
    "            child[i] = parent2[p2_index]\n",
    "\n",
    "    child.append(child[0])  # Close the cycle by adding the first city again\n",
    "    if(random.random()<0.05): #first tests were done with 0.01\n",
    "        child,_=simulated_annealing(child,initial_temp,cooling_rate,min_temp)\n",
    "    return child\n",
    "\n",
    "#2-opt\n",
    "def mutate(solution, mutation_rate):\n",
    "    if random.random() < mutation_rate:\n",
    "        i, j = sorted(random.sample(range(1, len(solution) - 1), 2))\n",
    "        solution[i:j] = reversed(solution[i:j])\n",
    "    return solution\n",
    "\n",
    "def lighter_mutation(solution, mutation_rate):\n",
    "    if random.random() < mutation_rate:\n",
    "        i, j = sorted(random.sample(range(1, len(solution) - 1), 2))\n",
    "        solution[i], solution[j] = solution[j], solution[i]\n",
    "    return solution\n"
   ]
  },
  {
   "cell_type": "markdown",
   "metadata": {},
   "source": [
    "At this point, there are different alternative flows for the EA algorithm...\n",
    "Historic GA, Modern GA  and Hyper-modern GA.\n",
    "In the first case, parents are selected, mutated with probability pm and the crossover is performed with probability pc.\n",
    "In the second case, parents are selected, the crossover is performed and the result of the offspring is mutated with probability pm.\n",
    "In the last case, a genetic operator is selected with probability pi and then the offspring is generated.\n",
    "For the selection of the parent, tournament selection has been picked as chosen method.\n",
    "When creating the new population, following the Elitist strategy, the fittest can be kept inside the population. \n"
   ]
  },
  {
   "cell_type": "markdown",
   "metadata": {},
   "source": [
    "## First version EA-> Historical"
   ]
  },
  {
   "cell_type": "code",
   "execution_count": 114,
   "metadata": {},
   "outputs": [
    {
     "data": {
      "text/plain": [
       "'\\n# EA-> Historical GA\\ndef evolutionary_algorithm():\\n    #Completely random starting solution-> create_initial_population(total_size,greedy_size,random_size,simulated_annealing_size):\\n    population = create_initial_population(POPULATION_SIZE,int(POPULATION_SIZE*0.05),int(0.9*POPULATION_SIZE),int(0.05*POPULATION_SIZE))\\n    best_solution = None\\n    best_fitness = float(\\'-inf\\')\\n\\n    for generation in range(GENERATIONS):\\n        # Elite selection\\n        population.sort(key=fitness, reverse=True)\\n        elite = population[:ELITE_SIZE]\\n        \\n        # best individual update\\n        if fitness(elite[0]) > best_fitness:\\n            best_solution = elite[0]\\n            best_fitness = fitness(best_solution)\\n\\n        # New population\\n        new_population = elite[:]  # The elite is kept\\n        while len(new_population) < POPULATION_SIZE:\\n            parent1 = mutate(tournament_selection(population),MUTATION_RATE)\\n            parent2 = mutate(tournament_selection(population),MUTATION_RATE)\\n            if(random.random() < CROSSOVER_RATE):\\n                child = inversion_crossover(parent1, parent2)\\n            else:\\n                #if the crossover is not performed, we randomly select one of the two parents\\n                child = parent1 if random.random() < 0.5 else parent2\\n            new_population.append(child)\\n        population = new_population  # Genetic\\n        \\n        if generation % 50 == 0:\\n            print(f\"Generation {generation}: Best tour length = {-best_fitness:.2f} km\")\\n\\n    return best_solution, -best_fitness  \\n\\nbest_tour, best_cost = evolutionary_algorithm()\\nprint(f\"Best tour found: {best_tour} with total length {best_cost:.2f} km\")\\n'"
      ]
     },
     "execution_count": 114,
     "metadata": {},
     "output_type": "execute_result"
    }
   ],
   "source": [
    "# Algorithm parameters\n",
    "POPULATION_SIZE = 100\n",
    "GENERATIONS = 500\n",
    "ELITE_SIZE = 10\n",
    "MUTATION_RATE = 0.4\n",
    "CROSSOVER_RATE = 0.4\n",
    "\n",
    "\n",
    "'''\n",
    "# EA-> Historical GA\n",
    "def evolutionary_algorithm():\n",
    "    #Completely random starting solution-> create_initial_population(total_size,greedy_size,random_size,simulated_annealing_size):\n",
    "    population = create_initial_population(POPULATION_SIZE,int(POPULATION_SIZE*0.05),int(0.9*POPULATION_SIZE),int(0.05*POPULATION_SIZE))\n",
    "    best_solution = None\n",
    "    best_fitness = float('-inf')\n",
    "\n",
    "    for generation in range(GENERATIONS):\n",
    "        # Elite selection\n",
    "        population.sort(key=fitness, reverse=True)\n",
    "        elite = population[:ELITE_SIZE]\n",
    "        \n",
    "        # best individual update\n",
    "        if fitness(elite[0]) > best_fitness:\n",
    "            best_solution = elite[0]\n",
    "            best_fitness = fitness(best_solution)\n",
    "\n",
    "        # New population\n",
    "        new_population = elite[:]  # The elite is kept\n",
    "        while len(new_population) < POPULATION_SIZE:\n",
    "            parent1 = mutate(tournament_selection(population),MUTATION_RATE)\n",
    "            parent2 = mutate(tournament_selection(population),MUTATION_RATE)\n",
    "            if(random.random() < CROSSOVER_RATE):\n",
    "                child = inversion_crossover(parent1, parent2)\n",
    "            else:\n",
    "                #if the crossover is not performed, we randomly select one of the two parents\n",
    "                child = parent1 if random.random() < 0.5 else parent2\n",
    "            new_population.append(child)\n",
    "        population = new_population  # Genetic\n",
    "        \n",
    "        if generation % 50 == 0:\n",
    "            print(f\"Generation {generation}: Best tour length = {-best_fitness:.2f} km\")\n",
    "\n",
    "    return best_solution, -best_fitness  \n",
    "\n",
    "best_tour, best_cost = evolutionary_algorithm()\n",
    "print(f\"Best tour found: {best_tour} with total length {best_cost:.2f} km\")\n",
    "'''"
   ]
  },
  {
   "cell_type": "markdown",
   "metadata": {},
   "source": [
    "## Second version EA -> Modern"
   ]
  },
  {
   "cell_type": "code",
   "execution_count": 115,
   "metadata": {},
   "outputs": [
    {
     "name": "stdout",
     "output_type": "stream",
     "text": [
      "Generation 0: Best tour length = 4320.03 km\n",
      "Generation 20: Best tour length = 4172.76 km\n"
     ]
    },
    {
     "ename": "KeyboardInterrupt",
     "evalue": "",
     "output_type": "error",
     "traceback": [
      "\u001b[1;31m---------------------------------------------------------------------------\u001b[0m",
      "\u001b[1;31mKeyboardInterrupt\u001b[0m                         Traceback (most recent call last)",
      "Cell \u001b[1;32mIn[115], line 48\u001b[0m\n\u001b[0;32m     45\u001b[0m     \u001b[38;5;28;01mreturn\u001b[39;00m best_solution, \u001b[38;5;241m-\u001b[39mbest_fitness\n\u001b[0;32m     47\u001b[0m \u001b[38;5;66;03m# Run the evolutionary algorithm\u001b[39;00m\n\u001b[1;32m---> 48\u001b[0m best_tour, best_cost \u001b[38;5;241m=\u001b[39m \u001b[43mevolutionary_algorithm\u001b[49m\u001b[43m(\u001b[49m\u001b[43m)\u001b[49m\n\u001b[0;32m     50\u001b[0m \u001b[38;5;28mprint\u001b[39m(\u001b[38;5;124mf\u001b[39m\u001b[38;5;124m\"\u001b[39m\u001b[38;5;124mBest tour found: \u001b[39m\u001b[38;5;132;01m{\u001b[39;00mbest_tour\u001b[38;5;132;01m}\u001b[39;00m\u001b[38;5;124m with total length \u001b[39m\u001b[38;5;132;01m{\u001b[39;00mbest_cost\u001b[38;5;132;01m:\u001b[39;00m\u001b[38;5;124m.2f\u001b[39m\u001b[38;5;132;01m}\u001b[39;00m\u001b[38;5;124m km\u001b[39m\u001b[38;5;124m\"\u001b[39m)\n",
      "Cell \u001b[1;32mIn[115], line 34\u001b[0m, in \u001b[0;36mevolutionary_algorithm\u001b[1;34m()\u001b[0m\n\u001b[0;32m     32\u001b[0m parent1 \u001b[38;5;241m=\u001b[39m tournament_selection(population)\n\u001b[0;32m     33\u001b[0m parent2 \u001b[38;5;241m=\u001b[39m tournament_selection(population)\n\u001b[1;32m---> 34\u001b[0m child \u001b[38;5;241m=\u001b[39m \u001b[43minversion_crossover\u001b[49m\u001b[43m(\u001b[49m\u001b[43mparent1\u001b[49m\u001b[43m,\u001b[49m\u001b[43m \u001b[49m\u001b[43mparent2\u001b[49m\u001b[43m)\u001b[49m\n\u001b[0;32m     35\u001b[0m child \u001b[38;5;241m=\u001b[39m mutate(child, MUTATION_RATE)\n\u001b[0;32m     36\u001b[0m new_population\u001b[38;5;241m.\u001b[39mappend(child)\n",
      "Cell \u001b[1;32mIn[113], line 155\u001b[0m, in \u001b[0;36minversion_crossover\u001b[1;34m(parent1, parent2)\u001b[0m\n\u001b[0;32m    153\u001b[0m child\u001b[38;5;241m.\u001b[39mappend(child[\u001b[38;5;241m0\u001b[39m])  \u001b[38;5;66;03m# Close the cycle by adding the first city again\u001b[39;00m\n\u001b[0;32m    154\u001b[0m \u001b[38;5;28;01mif\u001b[39;00m(random\u001b[38;5;241m.\u001b[39mrandom()\u001b[38;5;241m<\u001b[39m\u001b[38;5;241m0.05\u001b[39m): \u001b[38;5;66;03m#first tests were done with 0.01\u001b[39;00m\n\u001b[1;32m--> 155\u001b[0m     child,_\u001b[38;5;241m=\u001b[39m\u001b[43msimulated_annealing\u001b[49m\u001b[43m(\u001b[49m\u001b[43mchild\u001b[49m\u001b[43m,\u001b[49m\u001b[43minitial_temp\u001b[49m\u001b[43m,\u001b[49m\u001b[43mcooling_rate\u001b[49m\u001b[43m,\u001b[49m\u001b[43mmin_temp\u001b[49m\u001b[43m)\u001b[49m\n\u001b[0;32m    156\u001b[0m \u001b[38;5;28;01mreturn\u001b[39;00m child\n",
      "Cell \u001b[1;32mIn[111], line 21\u001b[0m, in \u001b[0;36msimulated_annealing\u001b[1;34m(tsp, initial_temp, cooling_rate, min_temp)\u001b[0m\n\u001b[0;32m     17\u001b[0m temperature \u001b[38;5;241m=\u001b[39m initial_temp\n\u001b[0;32m     19\u001b[0m \u001b[38;5;28;01mwhile\u001b[39;00m temperature \u001b[38;5;241m>\u001b[39m min_temp:\n\u001b[0;32m     20\u001b[0m     \u001b[38;5;66;03m# Generate a new solution through 2-opt\u001b[39;00m\n\u001b[1;32m---> 21\u001b[0m     new_solution \u001b[38;5;241m=\u001b[39m \u001b[43mtwo_opt\u001b[49m\u001b[43m(\u001b[49m\u001b[43mcurrent_solution\u001b[49m\u001b[43m)\u001b[49m\n\u001b[0;32m     23\u001b[0m     \u001b[38;5;66;03m# Cost of the new solution\u001b[39;00m\n\u001b[0;32m     24\u001b[0m     new_cost \u001b[38;5;241m=\u001b[39m tsp_cost(new_solution)\n",
      "Cell \u001b[1;32mIn[111], line 8\u001b[0m, in \u001b[0;36mtwo_opt\u001b[1;34m(tour)\u001b[0m\n\u001b[0;32m      6\u001b[0m \u001b[38;5;28;01mdef\u001b[39;00m \u001b[38;5;21mtwo_opt\u001b[39m(tour):\n\u001b[0;32m      7\u001b[0m \u001b[38;5;250m    \u001b[39m\u001b[38;5;124;03m\"\"\"Applica la mossa 2-opt per invertire una parte del percorso.\"\"\"\u001b[39;00m\n\u001b[1;32m----> 8\u001b[0m     i, j \u001b[38;5;241m=\u001b[39m \u001b[43mnp\u001b[49m\u001b[38;5;241;43m.\u001b[39;49m\u001b[43msort\u001b[49m\u001b[43m(\u001b[49m\u001b[43mnp\u001b[49m\u001b[38;5;241;43m.\u001b[39;49m\u001b[43mrandom\u001b[49m\u001b[38;5;241;43m.\u001b[39;49m\u001b[43mrandint\u001b[49m\u001b[43m(\u001b[49m\u001b[38;5;241;43m1\u001b[39;49m\u001b[43m,\u001b[49m\u001b[43m \u001b[49m\u001b[38;5;28;43mlen\u001b[39;49m\u001b[43m(\u001b[49m\u001b[43mCITIES\u001b[49m\u001b[43m)\u001b[49m\u001b[43m \u001b[49m\u001b[38;5;241;43m-\u001b[39;49m\u001b[43m \u001b[49m\u001b[38;5;241;43m1\u001b[39;49m\u001b[43m,\u001b[49m\u001b[43m \u001b[49m\u001b[43msize\u001b[49m\u001b[38;5;241;43m=\u001b[39;49m\u001b[38;5;241;43m2\u001b[39;49m\u001b[43m)\u001b[49m\u001b[43m)\u001b[49m\n\u001b[0;32m      9\u001b[0m     new_tour \u001b[38;5;241m=\u001b[39m tour[:i] \u001b[38;5;241m+\u001b[39m tour[i:j\u001b[38;5;241m+\u001b[39m\u001b[38;5;241m1\u001b[39m][::\u001b[38;5;241m-\u001b[39m\u001b[38;5;241m1\u001b[39m] \u001b[38;5;241m+\u001b[39m tour[j\u001b[38;5;241m+\u001b[39m\u001b[38;5;241m1\u001b[39m:]\n\u001b[0;32m     10\u001b[0m     \u001b[38;5;28;01mreturn\u001b[39;00m new_tour\n",
      "File \u001b[1;32mc:\\Users\\Stefano\\OneDrive\\Desktop\\Computational intelligence\\CI2024_lab2\\venv\\Lib\\site-packages\\numpy\\_core\\fromnumeric.py:1136\u001b[0m, in \u001b[0;36msort\u001b[1;34m(a, axis, kind, order, stable)\u001b[0m\n\u001b[0;32m   1134\u001b[0m \u001b[38;5;28;01melse\u001b[39;00m:\n\u001b[0;32m   1135\u001b[0m     a \u001b[38;5;241m=\u001b[39m asanyarray(a)\u001b[38;5;241m.\u001b[39mcopy(order\u001b[38;5;241m=\u001b[39m\u001b[38;5;124m\"\u001b[39m\u001b[38;5;124mK\u001b[39m\u001b[38;5;124m\"\u001b[39m)\n\u001b[1;32m-> 1136\u001b[0m \u001b[43ma\u001b[49m\u001b[38;5;241;43m.\u001b[39;49m\u001b[43msort\u001b[49m\u001b[43m(\u001b[49m\u001b[43maxis\u001b[49m\u001b[38;5;241;43m=\u001b[39;49m\u001b[43maxis\u001b[49m\u001b[43m,\u001b[49m\u001b[43m \u001b[49m\u001b[43mkind\u001b[49m\u001b[38;5;241;43m=\u001b[39;49m\u001b[43mkind\u001b[49m\u001b[43m,\u001b[49m\u001b[43m \u001b[49m\u001b[43morder\u001b[49m\u001b[38;5;241;43m=\u001b[39;49m\u001b[43morder\u001b[49m\u001b[43m,\u001b[49m\u001b[43m \u001b[49m\u001b[43mstable\u001b[49m\u001b[38;5;241;43m=\u001b[39;49m\u001b[43mstable\u001b[49m\u001b[43m)\u001b[49m\n\u001b[0;32m   1137\u001b[0m \u001b[38;5;28;01mreturn\u001b[39;00m a\n",
      "\u001b[1;31mKeyboardInterrupt\u001b[0m: "
     ]
    }
   ],
   "source": [
    "# Algorithm parameters\n",
    "POPULATION_SIZE = 150 #it was 200\n",
    "GENERATIONS = 100 \n",
    "ELITE_SIZE = 20  # Set to 5 to retain only the 5 best individuals-> modified to 20, try different values\n",
    "MUTATION_RATE = 0.5\n",
    "\n",
    "# EA -> Modern GA\n",
    "def evolutionary_algorithm():\n",
    "    # Initial population setup\n",
    "    population = create_initial_population(\n",
    "        POPULATION_SIZE, int(POPULATION_SIZE * 0), int(0.95 * POPULATION_SIZE), int(0.05 * POPULATION_SIZE)\n",
    "    )\n",
    "    best_solution = None\n",
    "    best_fitness = float('-inf')\n",
    "\n",
    "    for generation in range(GENERATIONS):\n",
    "        # Sort the population by fitness in descending order\n",
    "        population.sort(key=fitness, reverse=True)\n",
    "        \n",
    "        # Select the best individual as elite\n",
    "        elite = population[:ELITE_SIZE]  # Only keep the top individual\n",
    "        \n",
    "        # Update the best individual if needed\n",
    "        if fitness(elite[0]) > best_fitness:\n",
    "            best_solution = elite[0]\n",
    "            best_fitness = fitness(best_solution)\n",
    "\n",
    "        # New population setup\n",
    "        new_population = elite[:]  # Keep only the best individual\n",
    "        while len(new_population) < POPULATION_SIZE:\n",
    "            # Selection and crossover\n",
    "            parent1 = tournament_selection(population)\n",
    "            parent2 = tournament_selection(population)\n",
    "            child = inversion_crossover(parent1, parent2)\n",
    "            child = mutate(child, MUTATION_RATE)\n",
    "            new_population.append(child)\n",
    "        \n",
    "        # Update population for the next generation\n",
    "        population = new_population\n",
    "\n",
    "        # Display progress every 20 generations\n",
    "        if generation % 20 == 0:\n",
    "            print(f\"Generation {generation}: Best tour length = {-best_fitness:.2f} km\")\n",
    "\n",
    "    return best_solution, -best_fitness\n",
    "\n",
    "# Run the evolutionary algorithm\n",
    "best_tour, best_cost = evolutionary_algorithm()\n",
    "\n",
    "print(f\"Best tour found: {best_tour} with total length {best_cost:.2f} km\")\n"
   ]
  },
  {
   "cell_type": "code",
   "execution_count": null,
   "metadata": {},
   "outputs": [
    {
     "name": "stderr",
     "output_type": "stream",
     "text": [
      "ic| best_cost: np.float64(35447.012832700275)\n"
     ]
    },
    {
     "data": {
      "text/plain": [
       "np.float64(35447.012832700275)"
      ]
     },
     "execution_count": 79,
     "metadata": {},
     "output_type": "execute_result"
    }
   ],
   "source": [
    "best_tour, best_cost = simulated_annealing(best_tour,initial_temp,cooling_rate,min_temp)\n",
    "ic(best_cost)"
   ]
  },
  {
   "cell_type": "markdown",
   "metadata": {},
   "source": [
    "## Third version-> Hyper-modern"
   ]
  },
  {
   "cell_type": "code",
   "execution_count": null,
   "metadata": {},
   "outputs": [],
   "source": [
    "# Algorithm parameters\n",
    "POPULATION_SIZE = 100\n",
    "GENERATIONS = 1200\n",
    "ELITE_SIZE = 10\n",
    "pi=0.05\n",
    "\n",
    "# EA-> Hyper-modern GA\n",
    "def evolutionary_algorithm():\n",
    "    #Completely random starting solution\n",
    "    population = create_initial_population(POPULATION_SIZE,int(POPULATION_SIZE*0),int(0.9*POPULATION_SIZE),int(1*POPULATION_SIZE))\n",
    "    best_solution = None\n",
    "    best_fitness = float('-inf')\n",
    "\n",
    "    for generation in range(GENERATIONS):\n",
    "        # Elite selection\n",
    "        population.sort(key=fitness, reverse=True)\n",
    "        elite = population[:ELITE_SIZE]\n",
    "        \n",
    "        # best individual update\n",
    "        if fitness(elite[0]) > best_fitness:\n",
    "            best_solution = elite[0]\n",
    "            best_fitness = fitness(best_solution)\n",
    "\n",
    "        # New population\n",
    "        new_population = elite[:]  # The elite is kept\n",
    "        while len(new_population) < POPULATION_SIZE:\n",
    "            if(random.random() < pi):\n",
    "                parent1 = tournament_selection(population)\n",
    "                parent2 = tournament_selection(population)\n",
    "                child = inversion_crossover(parent1, parent2)\n",
    "            else:\n",
    "                parent = tournament_selection(population)\n",
    "                child = lighter_mutation(parent,1) #In this case the mutation has to be done\n",
    "            new_population.append(child)\n",
    "        \n",
    "        population = new_population  # Genetic\n",
    "        \n",
    "        if generation % 50 == 0:\n",
    "            print(f\"Generation {generation}: Best tour length = {-best_fitness:.2f} km\")\n",
    "\n",
    "    return best_solution, -best_fitness  \n",
    "\n",
    "best_tour, best_cost = evolutionary_algorithm()\n",
    "print(f\"Best tour found: {best_tour} with total length {best_cost:.2f} km\")"
   ]
  },
  {
   "cell_type": "markdown",
   "metadata": {},
   "source": [
    "Result table (Trying to report what are some of the observations when doing trials):  \n",
    "1- With a complete random solution, the best result is obtained with the Modern GA, even if it seems that some more generations (more than 500) could have improved it even more. Let's try with 2000. Results for the other 2 are not good enough to be considered for other improvements. With 2000, it improves more but it reaches a plateau.  \n",
    "2-Let's try to improve a little bit the starting solution. 90% are randomly generated, 5% are greedy and 5% are gredy+ simulated annealing. Also in this case, the one that performs better is the Modern GA. I'm not so able to move the results obtained in the firsty generation with the Hyper-modern, I looked for bugs in the code but it seems to be correct to me.  \n",
    "3-Let's try to keep the previous configuration and the Modern approach, but I also increase the tau (highest selective pressure). I will try with: 5-10-20-30-40 and report here the one that gives the best result. 10 reaches better results with respect to 5, but it converges faster, so it looks like it won't benefit from more generations. 20 is worst than 10. 30 is the value that provides the best result so far (4174 for Italy). Let's try with higher values, 40 and 50. The best result is obtained by using 30, which is actually 30% of the population size.  \n",
    "4-By keeping 30 as tau, I try to slightly increase the goodness of the starting solution. 19% greedy, 10% greedy+simulated annealing. It was better with 5%.  \n",
    "5- Let's try to increase the previous percentages a lot: 30% and 30%. In this case, it reaches a good result (not the best one) but then the evolutionary algorithm is not able to improve it anymore.  \n",
    "6- Let's try with a population entirely generated with greedy+simulated annealing-> the result is good also in this case, but it is only slightly moved by the EA algorithm and it's not as good as the one with 5%.  \n",
    "7- Try to use 5% of greedy+simulated annealing, 95% random solutions and give the algorithm 5_000 generations. Even with more iterations, it's not able to improve it more.  \n",
    "8- Try 1% simulated annealing, 99% random-> No, it's not better.  \n",
    "9- Since it reaches a good value but then it's a little bit stuck on that when using 5% of simulated annealing, let's try to increase the MUTATION_RATE to favore exploitation. I will try with: 1,0.9,0.8,0.6,0.2 (one is to try to decrease it).\n",
    "4248 with 0.2, 4172 with 0.6, 4195 with 0.8 (not improved by EA), 4176 with 0.5. Let's pick 0.5.  \n",
    "10- By following this approach of exploitation, I have also tried the hyper-modern approach with pi=0.05 (quite always mutation) and a 'lighter' mutation wrt the 2-opt mutation, by simply swapping two cities. The starting point is the solution completely filled with results taken from greedy+simulated annealing and I kept 1200 generations-> I'm not getting a better result.  \n",
    "11-Try to use 4% of the individuals of the starting population generated only by greedy, giving the algorithm more 'freedom'->"
   ]
  },
  {
   "cell_type": "markdown",
   "metadata": {},
   "source": []
  }
 ],
 "metadata": {
  "kernelspec": {
   "display_name": "venv",
   "language": "python",
   "name": "python3"
  },
  "language_info": {
   "codemirror_mode": {
    "name": "ipython",
    "version": 3
   },
   "file_extension": ".py",
   "mimetype": "text/x-python",
   "name": "python",
   "nbconvert_exporter": "python",
   "pygments_lexer": "ipython3",
   "version": "3.11.5"
  }
 },
 "nbformat": 4,
 "nbformat_minor": 2
}
