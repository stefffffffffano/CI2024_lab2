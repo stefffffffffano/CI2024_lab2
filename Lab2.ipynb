{
 "cells": [
  {
   "cell_type": "code",
   "execution_count": 6,
   "metadata": {},
   "outputs": [],
   "source": [
    "import logging\n",
    "from itertools import combinations, permutations\n",
    "import pandas as pd\n",
    "import numpy as np\n",
    "from geopy.distance import geodesic\n",
    "import networkx as nx\n",
    "import random\n",
    "\n",
    "\n",
    "\n",
    "from icecream import ic\n",
    "\n",
    "logging.basicConfig(level=logging.DEBUG)"
   ]
  },
  {
   "cell_type": "markdown",
   "metadata": {},
   "source": [
    "## Read the file and properly initialize data structures"
   ]
  },
  {
   "cell_type": "code",
   "execution_count": 7,
   "metadata": {},
   "outputs": [
    {
     "data": {
      "text/html": [
       "<div>\n",
       "<style scoped>\n",
       "    .dataframe tbody tr th:only-of-type {\n",
       "        vertical-align: middle;\n",
       "    }\n",
       "\n",
       "    .dataframe tbody tr th {\n",
       "        vertical-align: top;\n",
       "    }\n",
       "\n",
       "    .dataframe thead th {\n",
       "        text-align: right;\n",
       "    }\n",
       "</style>\n",
       "<table border=\"1\" class=\"dataframe\">\n",
       "  <thead>\n",
       "    <tr style=\"text-align: right;\">\n",
       "      <th></th>\n",
       "      <th>name</th>\n",
       "      <th>lat</th>\n",
       "      <th>lon</th>\n",
       "    </tr>\n",
       "  </thead>\n",
       "  <tbody>\n",
       "    <tr>\n",
       "      <th>0</th>\n",
       "      <td>Ancona</td>\n",
       "      <td>43.60</td>\n",
       "      <td>13.50</td>\n",
       "    </tr>\n",
       "    <tr>\n",
       "      <th>1</th>\n",
       "      <td>Andria</td>\n",
       "      <td>41.23</td>\n",
       "      <td>16.29</td>\n",
       "    </tr>\n",
       "    <tr>\n",
       "      <th>2</th>\n",
       "      <td>Bari</td>\n",
       "      <td>41.12</td>\n",
       "      <td>16.87</td>\n",
       "    </tr>\n",
       "    <tr>\n",
       "      <th>3</th>\n",
       "      <td>Bergamo</td>\n",
       "      <td>45.70</td>\n",
       "      <td>9.67</td>\n",
       "    </tr>\n",
       "    <tr>\n",
       "      <th>4</th>\n",
       "      <td>Bologna</td>\n",
       "      <td>44.50</td>\n",
       "      <td>11.34</td>\n",
       "    </tr>\n",
       "  </tbody>\n",
       "</table>\n",
       "</div>"
      ],
      "text/plain": [
       "      name    lat    lon\n",
       "0   Ancona  43.60  13.50\n",
       "1   Andria  41.23  16.29\n",
       "2     Bari  41.12  16.87\n",
       "3  Bergamo  45.70   9.67\n",
       "4  Bologna  44.50  11.34"
      ]
     },
     "execution_count": 7,
     "metadata": {},
     "output_type": "execute_result"
    }
   ],
   "source": [
    "CITIES = pd.read_csv('cities/italy.csv', header=None, names=['name', 'lat', 'lon'])\n",
    "DIST_MATRIX = np.zeros((len(CITIES), len(CITIES)))\n",
    "for c1, c2 in combinations(CITIES.itertuples(), 2):\n",
    "    DIST_MATRIX[c1.Index, c2.Index] = DIST_MATRIX[c2.Index, c1.Index] = geodesic(\n",
    "        (c1.lat, c1.lon), (c2.lat, c2.lon)\n",
    "    ).km\n",
    "CITIES.head()"
   ]
  },
  {
   "cell_type": "markdown",
   "metadata": {},
   "source": [
    "## Cost and fitness functions"
   ]
  },
  {
   "cell_type": "code",
   "execution_count": 8,
   "metadata": {},
   "outputs": [],
   "source": [
    "def tsp_cost(tsp):\n",
    "    assert tsp[0] == tsp[-1]\n",
    "    cluster_set = set(tsp[:-1])  # Escludi l'ultima città (uguale alla prima)\n",
    "    tot_cost = 0\n",
    "    for c1, c2 in zip(tsp, tsp[1:]):\n",
    "        tot_cost += DIST_MATRIX[c1, c2]\n",
    "    return tot_cost if cluster_set.issubset(set(range(len(CITIES)))) else float('inf')\n",
    "\n",
    "def fitness(solution):\n",
    "    return -tsp_cost(solution)"
   ]
  },
  {
   "cell_type": "markdown",
   "metadata": {},
   "source": [
    "## Fast solution  \n",
    "The first point required by the lab text was to provide an algorithm able to produce a solution in a 'fast' way. In order to fulfill the aim, I've used a greedy algorithm and then, to the valid tour provided by the gredy, I simply apply simulated annealing. On my pc, even on larger instances, it is able to provide a solution even in less than 1 second (I know that time is not a unit measure, but, since the fitness is not so clear and well defined in this context, at least there's a reference of execution time on a machine).  \n",
    "The greedy algorithm simply consists on starting from a random city and constructing the path step by step by picking the closest city to the current one. Parameters that have been set for the simulated annealing have been tuned based on empirical trials done and better explained in the file trials_tsp.ipynb, available in this folder."
   ]
  },
  {
   "cell_type": "code",
   "execution_count": 9,
   "metadata": {},
   "outputs": [
    {
     "name": "stderr",
     "output_type": "stream",
     "text": [
      "INFO:root:result: Found a path of 46 steps, total length 5136.22km\n"
     ]
    }
   ],
   "source": [
    "''' \n",
    "The algorithm takes as argumenti the integer representing the starting city in the path and return a list\n",
    "of integers representing the path.\n",
    "'''\n",
    "def greedy(startingcity: int):\n",
    "    visited = np.full(len(CITIES), False)\n",
    "    dist = DIST_MATRIX.copy()\n",
    "    city = startingcity\n",
    "    visited[city] = True\n",
    "    tsp = list()\n",
    "    tsp.append(int(city))\n",
    "    while not np.all(visited):\n",
    "        dist[:, city] = np.inf\n",
    "        closest = np.argmin(dist[city])\n",
    "        visited[closest] = True\n",
    "        city = closest\n",
    "        tsp.append(int(city))\n",
    "    tsp.append(tsp[0])\n",
    "    return tsp\n",
    "\n",
    "#Choose a random city and execute the algorithm\n",
    "city = np.random.randint(len(CITIES))\n",
    "tsp = greedy(city)\n",
    "\n",
    "logging.info(f\"result: Found a path of {len(tsp)-1} steps, total length {tsp_cost(tsp):.2f}km\")"
   ]
  },
  {
   "cell_type": "code",
   "execution_count": 10,
   "metadata": {},
   "outputs": [
    {
     "name": "stderr",
     "output_type": "stream",
     "text": [
      "INFO:root:Simulated annealing optimized solution cost: 4704.68 km\n"
     ]
    }
   ],
   "source": [
    "# Simulated annealing parameters \n",
    "initial_temp = 0.1  # Starting temperature\n",
    "cooling_rate = 0.999  # How to slow down the cooling\n",
    "min_temp = 1e-5  # Minimum temperature \n",
    "\n",
    "def two_opt(tour):\n",
    "    \"\"\"2-opt to invert a portion of the tour\"\"\"\n",
    "    i, j = np.sort(np.random.randint(1, len(CITIES) - 1, size=2))\n",
    "    new_tour = tour[:i] + tour[i:j+1][::-1] + tour[j+1:]\n",
    "    return new_tour\n",
    "\n",
    "def simulated_annealing(tsp, initial_temp, cooling_rate, min_temp):\n",
    "    current_solution = tsp.copy()\n",
    "    current_cost = tsp_cost(current_solution)\n",
    "    best_solution = current_solution.copy()\n",
    "    best_cost = current_cost\n",
    "    temperature = initial_temp\n",
    "\n",
    "    while temperature > min_temp:\n",
    "        # Generate a new solution through 2-opt\n",
    "        new_solution = two_opt(current_solution)\n",
    "\n",
    "        # Cost of the new solution\n",
    "        new_cost = tsp_cost(new_solution)\n",
    "\n",
    "        # Cost difference\n",
    "        cost_diff = new_cost - current_cost\n",
    "\n",
    "        # Decide whether to accept the new solution\n",
    "        if cost_diff < 0 or np.random.rand() < np.exp(-cost_diff / temperature):\n",
    "            current_solution = new_solution\n",
    "            current_cost = new_cost\n",
    "            if current_cost < best_cost:\n",
    "                best_solution = current_solution\n",
    "                best_cost = current_cost\n",
    "\n",
    "        # Cool down the temperature\n",
    "        temperature *= cooling_rate\n",
    "\n",
    "    return best_solution, best_cost\n",
    "\n",
    "best_solution, best_cost = simulated_annealing(tsp, initial_temp, cooling_rate, min_temp)\n",
    "\n",
    "logging.info(f\"Simulated annealing optimized solution cost: {best_cost:.2f} km\")"
   ]
  },
  {
   "cell_type": "markdown",
   "metadata": {},
   "source": [
    "## Second solution, more time consuming but more accurate and efficient"
   ]
  },
  {
   "cell_type": "markdown",
   "metadata": {},
   "source": [
    "The second algorithm provided for this lab is a mix of many strategies. The skeleton is given by the genetuic algorithm (steady state model) that uses, as a flow, the modern strategy (pick two parents, perform crossover and mutate the child before adding it to the offspring). Regarding mutation and crossover, I decided to use 2-opt, as I did for simulated annealing, for mutation, while I used the inver Over crossover. In reality, the inver Over crossover have been slightly modified in order to execute, with a certain (low) probability simulated annealing on the child produced by the two parents. This strategy allowed to reach much better results. As I did for the first algorithm, also in this case parameters have been fine-tuned in order to obtain better results and other considerations are left to trials_tsp.ipynb where you can see the entire flow of reasoning, if interested.\n",
    "As starting point for the EA many trials have been done, at the end I decided to use both efficient solutions and randomic solutions. More efficient solutions are added to the initial population using the first algorithm (the fast one). You can have a look at their percentage in the code below, or even to results obtained by changing them in the aforementioned file."
   ]
  },
  {
   "cell_type": "code",
   "execution_count": 11,
   "metadata": {},
   "outputs": [],
   "source": [
    "# Function to create a random solution (valid, it is a tour of the cities)\n",
    "def create_random_solution():\n",
    "    solution = list(range(len(CITIES)))\n",
    "    np.random.shuffle(solution)\n",
    "    solution.append(solution[0])  \n",
    "    return solution\n",
    "\n",
    "'''\n",
    "This function receives total_size (population_size), greedy_size (number of individuals generated using the greedy algorithm), \n",
    "random_size (number of individuals randomly generated) and simulated_annealing_size (number of individuals generated \n",
    "using greedy optimized using the simulated annealing algorithm with 2-opt mutation).\n",
    "'''\n",
    "def create_initial_population(total_size,greedy_size,random_size,simulated_annealing_size):\n",
    "    population = []\n",
    "    for _ in range(greedy_size):\n",
    "        population.append(greedy(np.random.randint(0,len(CITIES))))\n",
    "    for _ in range(random_size):\n",
    "        population.append(create_random_solution())\n",
    "    for _ in range(simulated_annealing_size):\n",
    "        population.append(simulated_annealing(greedy(np.random.randint(0,len(CITIES))),initial_temp,cooling_rate,min_temp)[0])\n",
    "    for _ in range(total_size-len(population)):\n",
    "        population.append(create_random_solution())\n",
    "    return population\n",
    "\n",
    "\n",
    "# Tournament selection\n",
    "def tournament_selection(population, k=30):\n",
    "    selected = random.sample(population, k)\n",
    "    selected.sort(key=fitness, reverse=True)\n",
    "    return selected[0]\n",
    "\n",
    "def inversion_crossover(parent1, parent2):\n",
    "    # Determine the size of the parents (excluding the last element)\n",
    "    size = len(parent1) - 1  \n",
    "    # Randomly choose two crossover points\n",
    "    start, end = sorted(random.sample(range(size), 2))\n",
    "\n",
    "    # Copy the segment from parent1 and invert it\n",
    "    child_segment = parent1[start:end + 1][::-1]  # Invert the selected segment\n",
    "    \n",
    "    # Create a child list that initially includes None\n",
    "    child = [None] * size\n",
    "    \n",
    "    # Fill in the inverted segment into the child\n",
    "    child[start:end + 1] = child_segment\n",
    "    \n",
    "    # Fill the remaining positions with genes from parent2, avoiding duplicates\n",
    "    p2_index = 0\n",
    "    for i in range(size):\n",
    "        if child[i] is None:\n",
    "            # Find the next gene from parent2 that isn't already in the child\n",
    "            while parent2[p2_index] in child:\n",
    "                p2_index += 1\n",
    "            child[i] = parent2[p2_index]\n",
    "\n",
    "    child.append(child[0])  # Close the cycle by adding the first city again\n",
    "    if(random.random()<0.05): #first tests were done with 0.01\n",
    "        child,_=simulated_annealing(child,initial_temp,cooling_rate,min_temp)\n",
    "    return child\n",
    "\n",
    "#2-opt\n",
    "def mutate(solution, mutation_rate):\n",
    "    if random.random() < mutation_rate:\n",
    "        i, j = sorted(random.sample(range(1, len(solution) - 1), 2))\n",
    "        solution[i:j] = reversed(solution[i:j])\n",
    "    return solution"
   ]
  },
  {
   "cell_type": "code",
   "execution_count": 12,
   "metadata": {},
   "outputs": [
    {
     "name": "stdout",
     "output_type": "stream",
     "text": [
      "Generation 0: Best tour length = 4315.21 km\n",
      "Generation 20: Best tour length = 4181.62 km\n",
      "Generation 40: Best tour length = 4172.76 km\n",
      "Generation 60: Best tour length = 4172.76 km\n",
      "Generation 80: Best tour length = 4172.76 km\n",
      "Best tour found: [18, 20, 3, 6, 44, 45, 40, 5, 41, 43, 23, 9, 30, 12, 33, 0, 27, 26, 39, 34, 15, 14, 21, 35, 11, 1, 2, 38, 17, 31, 37, 8, 24, 7, 36, 16, 10, 29, 4, 19, 32, 25, 28, 13, 42, 22, 18] with total length 4172.76 km\n"
     ]
    }
   ],
   "source": [
    "# Algorithm parameters\n",
    "POPULATION_SIZE = 150 \n",
    "GENERATIONS = 100 \n",
    "ELITE_SIZE = 20  \n",
    "MUTATION_RATE = 0.5\n",
    "\n",
    "# EA -> Modern GA\n",
    "def evolutionary_algorithm():\n",
    "    # Initial population setup\n",
    "    population = create_initial_population(\n",
    "        POPULATION_SIZE, int(POPULATION_SIZE * 0), int(0.95 * POPULATION_SIZE), int(0.05 * POPULATION_SIZE)\n",
    "    )\n",
    "    best_solution = None\n",
    "    best_fitness = float('-inf')\n",
    "\n",
    "    for generation in range(GENERATIONS):\n",
    "        # Sort the population by fitness in descending order\n",
    "        population.sort(key=fitness, reverse=True)\n",
    "        \n",
    "        # Select the best individual as elite\n",
    "        elite = population[:ELITE_SIZE]  # Only keep the top individual\n",
    "        \n",
    "        # Update the best individual if needed\n",
    "        if fitness(elite[0]) > best_fitness:\n",
    "            best_solution = elite[0]\n",
    "            best_fitness = fitness(best_solution)\n",
    "\n",
    "        # New population setup\n",
    "        new_population = elite[:]  # Keep only the best individual\n",
    "        while len(new_population) < POPULATION_SIZE:\n",
    "            # Selection and crossover\n",
    "            parent1 = tournament_selection(population)\n",
    "            parent2 = tournament_selection(population)\n",
    "            child = inversion_crossover(parent1, parent2)\n",
    "            child = mutate(child, MUTATION_RATE)\n",
    "            new_population.append(child)\n",
    "        \n",
    "        # Update population for the next generation\n",
    "        population = new_population\n",
    "\n",
    "        # Display progress every 20 generations\n",
    "        if generation % 20 == 0:\n",
    "            print(f\"Generation {generation}: Best tour length = {-best_fitness:.2f} km\")\n",
    "\n",
    "    return best_solution, -best_fitness\n",
    "\n",
    "# Run the evolutionary algorithm\n",
    "best_tour, best_cost = evolutionary_algorithm()\n",
    "\n",
    "print(f\"Best tour found: {best_tour} with total length {best_cost:.2f} km\")"
   ]
  }
 ],
 "metadata": {
  "kernelspec": {
   "display_name": "venv",
   "language": "python",
   "name": "python3"
  },
  "language_info": {
   "codemirror_mode": {
    "name": "ipython",
    "version": 3
   },
   "file_extension": ".py",
   "mimetype": "text/x-python",
   "name": "python",
   "nbconvert_exporter": "python",
   "pygments_lexer": "ipython3",
   "version": "3.11.5"
  }
 },
 "nbformat": 4,
 "nbformat_minor": 2
}
