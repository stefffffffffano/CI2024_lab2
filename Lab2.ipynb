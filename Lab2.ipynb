{
 "cells": [
  {
   "cell_type": "code",
   "execution_count": 8,
   "metadata": {},
   "outputs": [],
   "source": [
    "import pandas as pd\n",
    "from icecream import ic"
   ]
  },
  {
   "cell_type": "code",
   "execution_count": 9,
   "metadata": {},
   "outputs": [],
   "source": [
    "cities = pd.read_csv('cities/vanuatu.csv', header = None, names=['City','x','y'])\n"
   ]
  },
  {
   "cell_type": "code",
   "execution_count": 10,
   "metadata": {},
   "outputs": [],
   "source": [
    "#Calculates the distance between two cities given their coordinates\n",
    "def euclidean_distance(x: float, y: float,x2:float,y2:float) -> float: \n",
    "    return ((x-x2)**2 + (y-y2)**2)**0.5"
   ]
  },
  {
   "cell_type": "markdown",
   "metadata": {},
   "source": [
    "## Very simple solution with a double cicle that, for each city, visits the closest one"
   ]
  },
  {
   "cell_type": "code",
   "execution_count": 11,
   "metadata": {},
   "outputs": [
    {
     "name": "stderr",
     "output_type": "stream",
     "text": [
      "ic| cities_ordered_df:          City      x       y  distance\n",
      "                       0     Isangel -19.53  169.28  0.000000\n",
      "                       7        Vila -17.74  168.31  2.035927\n",
      "                       1    Lakatoro -16.09  167.40  1.884304\n",
      "                       4      Norsup -16.07  167.39  0.022361\n",
      "                       3  Luganville -15.51  167.15  0.609262\n",
      "                       5   Port Olry -15.05  167.05  0.470744\n",
      "                       2     Longana -15.30  168.00  0.982344\n",
      "                       6        Sola -13.87  167.55  1.499133\n",
      "ic| tot_distance: np.float64(13.42256271273651)\n"
     ]
    },
    {
     "data": {
      "text/plain": [
       "np.float64(13.42256271273651)"
      ]
     },
     "execution_count": 11,
     "metadata": {},
     "output_type": "execute_result"
    }
   ],
   "source": [
    "# List to store the ordered cities\n",
    "cities_ordered = []\n",
    "tot_distance = 0.0\n",
    "\n",
    "# Start arbitrarily from the first city\n",
    "current_city = cities.iloc[0,:].copy()\n",
    "current_city['distance'] = 0.0 #Since it is the starting city, the distance to itself is 0\n",
    "cities_ordered.append(current_city)\n",
    "\n",
    "# Remove the starting city from the available cities\n",
    "cities = cities.drop(current_city.name)\n",
    "\n",
    "while not cities.empty:\n",
    "    min_distance = float('inf')\n",
    "    closest_city = None\n",
    "\n",
    "    # Loop through remaining cities\n",
    "    for idx, c in cities.iterrows():\n",
    "        # Compute the euclidean distance between current city and all other cities\n",
    "        distance = euclidean_distance(current_city['x'], current_city['y'], c['x'], c['y'])\n",
    "        if distance < min_distance:\n",
    "            min_distance = distance\n",
    "            closest_city = c.copy()\n",
    "            closest_city['distance'] = min_distance #I'm also storing the distance from the previous city to the current one\n",
    "\n",
    "    # Add the closest city to the ordered list\n",
    "    cities_ordered.append(closest_city)\n",
    "    tot_distance += min_distance\n",
    "\n",
    "    # Update current city to the closest city\n",
    "    current_city = closest_city\n",
    "\n",
    "    # Remove the closest city from the list of available cities\n",
    "    cities = cities.drop(closest_city.name)\n",
    "\n",
    "# Convert the list of ordered cities into a DataFrame if needed\n",
    "#Actually, the tot distance is not taking into account the distance from the last to the first\n",
    "#Remind that it must be a closed cycle\n",
    "tot_distance += euclidean_distance(current_city['x'], current_city['y'], cities_ordered[0]['x'], cities_ordered[0]['y'])\n",
    "cities_ordered_df = pd.DataFrame(cities_ordered)\n",
    "ic(cities_ordered_df)\n",
    "ic(tot_distance)"
   ]
  }
 ],
 "metadata": {
  "kernelspec": {
   "display_name": "venv",
   "language": "python",
   "name": "python3"
  },
  "language_info": {
   "codemirror_mode": {
    "name": "ipython",
    "version": 3
   },
   "file_extension": ".py",
   "mimetype": "text/x-python",
   "name": "python",
   "nbconvert_exporter": "python",
   "pygments_lexer": "ipython3",
   "version": "3.11.5"
  }
 },
 "nbformat": 4,
 "nbformat_minor": 2
}
